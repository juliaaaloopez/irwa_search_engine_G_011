{
  "nbformat": 4,
  "nbformat_minor": 0,
  "metadata": {
    "colab": {
      "provenance": []
    },
    "kernelspec": {
      "name": "python3",
      "display_name": "Python 3"
    },
    "language_info": {
      "name": "python"
    }
  },
  "cells": [
    {
      "cell_type": "code",
      "source": [
        "from google.colab import drive\n",
        "drive.mount('/content/drive', force_remount = True)"
      ],
      "metadata": {
        "colab": {
          "base_uri": "https://localhost:8080/"
        },
        "id": "ZcoIxEWNHh9h",
        "outputId": "692c3f87-2eeb-48dd-8d1e-0b2468e859e6"
      },
      "execution_count": null,
      "outputs": [
        {
          "output_type": "stream",
          "name": "stdout",
          "text": [
            "Mounted at /content/drive\n"
          ]
        }
      ]
    },
    {
      "cell_type": "code",
      "execution_count": null,
      "metadata": {
        "colab": {
          "base_uri": "https://localhost:8080/"
        },
        "id": "lAO6S6ArGcn-",
        "outputId": "42d0f5a9-26ae-4554-fb42-b19dd8eb77df"
      },
      "outputs": [
        {
          "output_type": "stream",
          "name": "stderr",
          "text": [
            "[nltk_data] Downloading package stopwords to /root/nltk_data...\n",
            "[nltk_data]   Package stopwords is already up-to-date!\n",
            "[nltk_data] Downloading package punkt_tab to /root/nltk_data...\n",
            "[nltk_data]   Unzipping tokenizers/punkt_tab.zip.\n"
          ]
        },
        {
          "output_type": "execute_result",
          "data": {
            "text/plain": [
              "True"
            ]
          },
          "metadata": {},
          "execution_count": 31
        }
      ],
      "source": [
        "# if you do not have 'nltk', the following command should work \"python -m pip install nltk\"\n",
        "import nltk\n",
        "nltk.download('stopwords')\n",
        "nltk.download('punkt_tab')"
      ]
    },
    {
      "cell_type": "code",
      "source": [
        "from collections import defaultdict\n",
        "from array import array\n",
        "from nltk.stem import PorterStemmer\n",
        "from nltk.corpus import stopwords\n",
        "from nltk.tokenize import word_tokenize\n",
        "import math\n",
        "import numpy as np\n",
        "import collections\n",
        "from numpy import linalg as la\n",
        "import string\n",
        "import re"
      ],
      "metadata": {
        "id": "t6Y3uSC9Gw9k"
      },
      "execution_count": null,
      "outputs": []
    },
    {
      "cell_type": "code",
      "metadata": {
        "colab": {
          "base_uri": "https://localhost:8080/"
        },
        "id": "466cad19",
        "outputId": "3b55f573-add4-42b2-8eae-cc64b53325b9"
      },
      "source": [
        "import json\n",
        "\n",
        "docs_path = '/content/drive/Shareddrives/RIAW/DELIV 1/fashion_products_dataset.json'\n",
        "\n",
        "products = []\n",
        "with open(docs_path, 'r') as f:\n",
        "    products = json.load(f)\n",
        "\n",
        "print(\"Total number of products in the corpus: {}\".format(len(products)))"
      ],
      "execution_count": null,
      "outputs": [
        {
          "output_type": "stream",
          "name": "stdout",
          "text": [
            "Total number of products in the corpus: 28080\n"
          ]
        }
      ]
    },
    {
      "cell_type": "code",
      "metadata": {
        "colab": {
          "base_uri": "https://localhost:8080/",
          "height": 1000
        },
        "id": "22442fb9",
        "outputId": "c5f1ba40-85fb-4cb4-da82-4406dad31f5c"
      },
      "source": [
        "#Display the first 5 products\n",
        "display(products[:5])\n",
        "\n",
        "#Display the keys of the first product to see available information\n",
        "if products:\n",
        "    print(\"\\nKeys available for each product:\")\n",
        "    print(products[0].keys())"
      ],
      "execution_count": null,
      "outputs": [
        {
          "output_type": "display_data",
          "data": {
            "text/plain": [
              "[{'_id': 'fa8e22d6-c0b6-5229-bb9e-ad52eda39a0a',\n",
              "  'actual_price': '2,999',\n",
              "  'average_rating': '3.9',\n",
              "  'brand': 'York',\n",
              "  'category': 'Clothing and Accessories',\n",
              "  'crawled_at': 1612987911000,\n",
              "  'description': 'Yorker trackpants made from 100% rich combed cotton giving it a rich look.Designed for Comfort,Skin friendly fabric,itch-free waistband & great for all year round use Proudly made in India',\n",
              "  'discount': '69% off',\n",
              "  'images': ['https://rukminim1.flixcart.com/image/128/128/jr3t5e80/track-pant/z/y/n/m-1005combo2-yorker-original-imafczg3xfh5qqd4.jpeg?q=70',\n",
              "   'https://rukminim1.flixcart.com/image/128/128/jr58l8w0/track-pant/w/d/a/l-1005combo8-yorker-original-imafczg3pgtxgraq.jpeg?q=70'],\n",
              "  'out_of_stock': False,\n",
              "  'pid': 'TKPFCZ9EA7H5FYZH',\n",
              "  'product_details': [{'Style Code': '1005COMBO2'},\n",
              "   {'Closure': 'Elastic'},\n",
              "   {'Pockets': 'Side Pockets'},\n",
              "   {'Fabric': 'Cotton Blend'},\n",
              "   {'Pattern': 'Solid'},\n",
              "   {'Color': 'Multicolor'}],\n",
              "  'seller': 'Shyam Enterprises',\n",
              "  'selling_price': '921',\n",
              "  'sub_category': 'Bottomwear',\n",
              "  'title': 'Solid Women Multicolor Track Pants',\n",
              "  'url': 'https://www.flipkart.com/yorker-solid-men-multicolor-track-pants/p/itmd2c76aadce459?pid=TKPFCZ9EA7H5FYZH&lid=LSTTKPFCZ9EA7H5FYZHVYXWP0&marketplace=FLIPKART&srno=b_1_1&otracker=browse&fm=organic&iid=177a46eb-d053-4732-b3de-fcad6ff59cbd.TKPFCZ9EA7H5FYZH.SEARCH&ssid=utkd4t3gb40000001612415717799'},\n",
              " {'_id': '893e6980-f2a0-531f-b056-34dd63fe912c',\n",
              "  'actual_price': '1,499',\n",
              "  'average_rating': '3.9',\n",
              "  'brand': 'York',\n",
              "  'category': 'Clothing and Accessories',\n",
              "  'crawled_at': 1612987912000,\n",
              "  'description': 'Yorker trackpants made from 100% rich combed cotton giving it a rich look.Designed for Comfort,Skin friendly fabric,itch-free waistband & great for all year round use Proudly made in India',\n",
              "  'discount': '66% off',\n",
              "  'images': ['https://rukminim1.flixcart.com/image/128/128/kfyasnk0/track-pant/g/5/y/s-19876-yorker-original-imafwamyzrwjynkf.jpeg?q=70',\n",
              "   'https://rukminim1.flixcart.com/image/128/128/kfyasnk0/track-pant/g/5/y/s-19876-yorker-original-imafwamynyeuu5zq.jpeg?q=70'],\n",
              "  'out_of_stock': False,\n",
              "  'pid': 'TKPFCZ9EJZV2UVRZ',\n",
              "  'product_details': [{'Style Code': '1005BLUE'},\n",
              "   {'Closure': 'Drawstring, Elastic'},\n",
              "   {'Pockets': 'Side Pockets'},\n",
              "   {'Fabric': 'Cotton Blend'},\n",
              "   {'Pattern': 'Solid'},\n",
              "   {'Color': 'Blue'}],\n",
              "  'seller': 'Shyam Enterprises',\n",
              "  'selling_price': '499',\n",
              "  'sub_category': 'Bottomwear',\n",
              "  'title': 'Solid Men Blue Track Pants',\n",
              "  'url': 'https://www.flipkart.com/yorker-solid-men-blue-track-pants/p/itmfczez7v6rzwer?pid=TKPFCZ9EJZV2UVRZ&lid=LSTTKPFCZ9EJZV2UVRZ9HEITU&marketplace=FLIPKART&srno=b_1_2&otracker=browse&fm=organic&iid=177a46eb-d053-4732-b3de-fcad6ff59cbd.TKPFCZ9EJZV2UVRZ.SEARCH&ssid=utkd4t3gb40000001612415717799'},\n",
              " {'_id': 'eb4c8eab-8206-59d0-bcd1-a724d96bf74f',\n",
              "  'actual_price': '2,999',\n",
              "  'average_rating': '3.9',\n",
              "  'brand': 'York',\n",
              "  'category': 'Clothing and Accessories',\n",
              "  'crawled_at': 1612987912000,\n",
              "  'description': 'Yorker trackpants made from 100% rich combed cotton giving it a rich look.Designed for Comfort,Skin friendly fabric,itch-free waistband & great for all year round use Proudly made in India',\n",
              "  'discount': '68% off',\n",
              "  'images': ['https://rukminim1.flixcart.com/image/128/128/jr3t5e80/track-pant/e/c/s/xl-1005combo4-yorker-original-imafczgcc8t8uppk.jpeg?q=70',\n",
              "   'https://rukminim1.flixcart.com/image/128/128/jr58l8w0/track-pant/f/s/v/m-1005combo9-yorker-original-imafczez7buydy6r.jpeg?q=70'],\n",
              "  'out_of_stock': False,\n",
              "  'pid': 'TKPFCZ9EHFCY5Z4Y',\n",
              "  'product_details': [{'Style Code': '1005COMBO4'},\n",
              "   {'Closure': 'Elastic'},\n",
              "   {'Pockets': 'Side Pockets'},\n",
              "   {'Fabric': 'Cotton Blend'},\n",
              "   {'Pattern': 'Solid'},\n",
              "   {'Color': 'Multicolor'}],\n",
              "  'seller': 'Shyam Enterprises',\n",
              "  'selling_price': '931',\n",
              "  'sub_category': 'Bottomwear',\n",
              "  'title': 'Solid Men Multicolor Track Pants',\n",
              "  'url': 'https://www.flipkart.com/yorker-solid-men-multicolor-track-pants/p/itm1eee3ca648155?pid=TKPFCZ9EHFCY5Z4Y&lid=LSTTKPFCZ9EHFCY5Z4YDOVNQS&marketplace=FLIPKART&srno=b_1_3&otracker=browse&fm=organic&iid=177a46eb-d053-4732-b3de-fcad6ff59cbd.TKPFCZ9EHFCY5Z4Y.SEARCH&ssid=utkd4t3gb40000001612415717799'},\n",
              " {'_id': '3f3f97bb-5faf-57df-a9ff-1af24e2b1045',\n",
              "  'actual_price': '2,999',\n",
              "  'average_rating': '3.9',\n",
              "  'brand': 'York',\n",
              "  'category': 'Clothing and Accessories',\n",
              "  'crawled_at': 1612987913000,\n",
              "  'description': 'Yorker trackpants made from 100% rich combed cotton giving it a rich look.Designed for Comfort,Skin friendly fabric,itch-free waistband & great for all year round use Proudly made in India',\n",
              "  'discount': '69% off',\n",
              "  'images': ['https://rukminim1.flixcart.com/image/128/128/jr3t5e80/track-pant/w/e/f/xl-1005combo3-yorker-original-imafczezgq8ntn7c.jpeg?q=70',\n",
              "   'https://rukminim1.flixcart.com/image/128/128/jr3t5e80/track-pant/8/n/h/xxl-1005dskin-yorker-original-imafczezeauspu2a.jpeg?q=70'],\n",
              "  'out_of_stock': False,\n",
              "  'pid': 'TKPFCZ9ESZZ7YWEF',\n",
              "  'product_details': [{'Style Code': '1005COMBO3'},\n",
              "   {'Closure': 'Elastic'},\n",
              "   {'Pockets': 'Side Pockets'},\n",
              "   {'Fabric': 'Cotton Blend'},\n",
              "   {'Pattern': 'Solid'},\n",
              "   {'Color': 'Multicolor'}],\n",
              "  'seller': 'Shyam Enterprises',\n",
              "  'selling_price': '911',\n",
              "  'sub_category': 'Bottomwear',\n",
              "  'title': 'Solid Women Multicolor Track Pants',\n",
              "  'url': 'https://www.flipkart.com/yorker-solid-men-multicolor-track-pants/p/itma2f9bfe7dafb7?pid=TKPFCZ9ESZZ7YWEF&lid=LSTTKPFCZ9ESZZ7YWEFAZ1PUK&marketplace=FLIPKART&srno=b_1_4&otracker=browse&fm=organic&iid=177a46eb-d053-4732-b3de-fcad6ff59cbd.TKPFCZ9ESZZ7YWEF.SEARCH&ssid=utkd4t3gb40000001612415717799'},\n",
              " {'_id': '750caa3d-6264-53ca-8ce1-94118a1d8951',\n",
              "  'actual_price': '2,999',\n",
              "  'average_rating': '3.9',\n",
              "  'brand': 'York',\n",
              "  'category': 'Clothing and Accessories',\n",
              "  'crawled_at': 1612987913000,\n",
              "  'description': 'Yorker trackpants made from 100% rich combed cotton giving it a rich look.Designed for Comfort,Skin friendly fabric,itch-free waistband & great for all year round use Proudly made in India',\n",
              "  'discount': '68% off',\n",
              "  'images': ['https://rukminim1.flixcart.com/image/128/128/jr3t5e80/track-pant/d/w/b/l-1005combo1-yorker-original-imafczg3zcuajpgb.jpeg?q=70',\n",
              "   'https://rukminim1.flixcart.com/image/128/128/jr58l8w0/track-pant/d/w/b/l-1005combo1-yorker-original-imafczg3yyz6zgab.jpeg?q=70'],\n",
              "  'out_of_stock': False,\n",
              "  'pid': 'TKPFCZ9EVXKBSUD7',\n",
              "  'product_details': [{'Style Code': '1005COMBO1'},\n",
              "   {'Closure': 'Drawstring, Elastic'},\n",
              "   {'Pockets': 'Side Pockets'},\n",
              "   {'Fabric': 'Cotton Blend'},\n",
              "   {'Pattern': 'Solid'},\n",
              "   {'Color': 'Brown, Grey'}],\n",
              "  'seller': 'Shyam Enterprises',\n",
              "  'selling_price': '943',\n",
              "  'sub_category': 'Bottomwear',\n",
              "  'title': 'Solid Women Brown, Grey Track Pants',\n",
              "  'url': 'https://www.flipkart.com/yorker-solid-men-brown-grey-track-pants/p/itm1a8387617b373?pid=TKPFCZ9EVXKBSUD7&lid=LSTTKPFCZ9EVXKBSUD7O1SCSG&marketplace=FLIPKART&srno=b_1_5&otracker=browse&fm=organic&iid=177a46eb-d053-4732-b3de-fcad6ff59cbd.TKPFCZ9EVXKBSUD7.SEARCH&ssid=utkd4t3gb40000001612415717799'}]"
            ]
          },
          "metadata": {}
        },
        {
          "output_type": "stream",
          "name": "stdout",
          "text": [
            "\n",
            "Keys available for each product:\n",
            "dict_keys(['_id', 'actual_price', 'average_rating', 'brand', 'category', 'crawled_at', 'description', 'discount', 'images', 'out_of_stock', 'pid', 'product_details', 'seller', 'selling_price', 'sub_category', 'title', 'url'])\n"
          ]
        }
      ]
    },
    {
      "cell_type": "code",
      "metadata": {
        "id": "dae11645"
      },
      "source": [
        "#PREPROCESSING FUNCTIONS\n",
        "\n",
        "stemmer = PorterStemmer()\n",
        "stop_words = set(stopwords.words(\"english\"))\n",
        "stop_words.add('made') #We add some stopwords not considered by the nltk library\n",
        "#We remove negation stopwords, as eliminating negations could make us obtain the opposite of what we are looking for\n",
        "stop_words.remove('no')\n",
        "stop_words.remove('not')\n",
        "translator = str.maketrans('', '', string.punctuation)\n",
        "\n",
        "processed_tokens = []\n",
        "\n",
        "#Preprocessing of natural text. We apply conversion to lowercase, tokenization, elimination of punctuation and numbers and stemming since we need to clean a lot the text\n",
        "def preprocess_text(text):\n",
        "  \"\"\"Preprocessing of natural text\"\"\"\n",
        "  if not isinstance(text, str):\n",
        "      return []\n",
        "\n",
        "  #Convert to lowercase\n",
        "  text = text.lower()\n",
        "\n",
        "  #Eliminate punctuation and numbers by substituting them by blank spaces (to prevent 2 words being combined or losing info if a number is together with text)\n",
        "  text = re.sub(f'[{re.escape(string.punctuation)}0-9]', ' ', text)\n",
        "\n",
        "  #Tokenize (we use word_tokenize instead of split() as it's more accurate)\n",
        "  tokens = word_tokenize(text)\n",
        "\n",
        "  #Eliminate stop words and ensure they are aphabetical tokens\n",
        "  tokens = [word for word in tokens if word not in stop_words and word.isalpha()]\n",
        "\n",
        "  #Stemming\n",
        "  tokens = [stemmer.stem(word) for word in tokens]\n",
        "\n",
        "  return tokens\n",
        "\n",
        "#Conversion of numbers that appear inside a string to numerical values\n",
        "def clean_numeric(value, value_type='float'):\n",
        "  \"\"\"Convert strings to numeric values\"\"\"\n",
        "  if not isinstance(value, str):\n",
        "      return None\n",
        "\n",
        "  #Eliminate non-numerical characters (except dots)\n",
        "  cleaned_value = re.sub(r'[^0-9.]', '', value)\n",
        "  if not cleaned_value:\n",
        "      return None\n",
        "\n",
        "  try:\n",
        "      if value_type == 'int':\n",
        "          return int(float(cleaned_value))\n",
        "      else:\n",
        "          return float(cleaned_value)\n",
        "  except (ValueError, TypeError):\n",
        "      return None\n",
        "\n",
        "#Apply some preprocessing to categorical fields such as \"brand\". Here we only use conversion to lowercase and join everything into a single token, since it's already clean for the most part\n",
        "def clean_categorical(value):\n",
        "    \"\"\"Few processing for categorical fields\"\"\"\n",
        "    if not isinstance(value, str):\n",
        "        return None\n",
        "\n",
        "    #Just convert to lowercase and join everything into a single token separating words by \"_\"\n",
        "    return value.lower().strip().replace(' ', '_')"
      ],
      "execution_count": null,
      "outputs": []
    },
    {
      "cell_type": "code",
      "source": [
        "#APPLY PREPROCESSING TO THE CORPUS\n",
        "\n",
        "processed_corpus = []\n",
        "for prod in products:\n",
        "        #Dictionary for processed product\n",
        "        processed_prod = {\n",
        "            'pid': prod.get('pid'),\n",
        "            'title': prod.get('title'),\n",
        "            'description': prod.get('description'),\n",
        "            'brand': prod.get('brand'),\n",
        "            'category': prod.get('category'),\n",
        "            'sub_category': prod.get('sub_category'),\n",
        "            'product_details': prod.get('product_details'),\n",
        "            'seller': prod.get('seller'),\n",
        "            'url': prod.get('url'),\n",
        "        }\n",
        "\n",
        "        #Processing of natural text fields\n",
        "        title_text = prod.get('title', '') or ''\n",
        "        description_text = prod.get('description', '') or ''\n",
        "        full_text = title_text + \" \" + description_text\n",
        "        #Combine title and description into a single field\n",
        "        processed_prod['processed_text'] = preprocess_text(full_text)\n",
        "\n",
        "        #Processing of categorical fields\n",
        "        processed_prod['brand_facet'] = clean_categorical(prod.get('brand'))\n",
        "        processed_prod['category_facet'] = clean_categorical(prod.get('category'))\n",
        "        processed_prod['subcategory_facet'] = clean_categorical(prod.get('sub_category'))\n",
        "        processed_prod['seller_facet'] = clean_categorical(prod.get('seller'))\n",
        "\n",
        "        #Process product_details separately\n",
        "        #Extract the different values and process them as natural text alltogether\n",
        "        details_text = ''\n",
        "        if isinstance(prod.get('product_details'), list):\n",
        "            details_values = [list(item.values())[0] for item in prod.get('product_details', []) if item and isinstance(list(item.values())[0], str)]\n",
        "            details_text = ' '.join(details_values)\n",
        "        processed_prod['attributes'] = preprocess_text(details_text)\n",
        "\n",
        "        #Processing of numerical and boolean fields\n",
        "        processed_prod['out_of_stock'] = prod.get('out_of_stock', True)\n",
        "        processed_prod['selling_price'] = clean_numeric(prod.get('selling_price'), 'float')\n",
        "        processed_prod['actual_price'] = clean_numeric(prod.get('actual_price'), 'float')\n",
        "        processed_prod['discount'] = clean_numeric(prod.get('discount'), 'int')\n",
        "        processed_prod['average_rating'] = clean_numeric(prod.get('average_rating'), 'float')\n",
        "\n",
        "        processed_corpus.append(processed_prod)"
      ],
      "metadata": {
        "id": "knb1X3PtYG5Y"
      },
      "execution_count": null,
      "outputs": []
    },
    {
      "cell_type": "code",
      "source": [
        "#Example of product preprocessed\n",
        "display(processed_corpus[0])"
      ],
      "metadata": {
        "colab": {
          "base_uri": "https://localhost:8080/",
          "height": 1000
        },
        "id": "hXGIGHrsaTqW",
        "outputId": "3178cb63-e909-495d-fff8-7a527131f8f7"
      },
      "execution_count": null,
      "outputs": [
        {
          "output_type": "display_data",
          "data": {
            "text/plain": [
              "{'pid': 'TKPFCZ9EA7H5FYZH',\n",
              " 'title': 'Solid Women Multicolor Track Pants',\n",
              " 'description': 'Yorker trackpants made from 100% rich combed cotton giving it a rich look.Designed for Comfort,Skin friendly fabric,itch-free waistband & great for all year round use Proudly made in India',\n",
              " 'brand': 'York',\n",
              " 'category': 'Clothing and Accessories',\n",
              " 'sub_category': 'Bottomwear',\n",
              " 'product_details': [{'Style Code': '1005COMBO2'},\n",
              "  {'Closure': 'Elastic'},\n",
              "  {'Pockets': 'Side Pockets'},\n",
              "  {'Fabric': 'Cotton Blend'},\n",
              "  {'Pattern': 'Solid'},\n",
              "  {'Color': 'Multicolor'}],\n",
              " 'seller': 'Shyam Enterprises',\n",
              " 'url': 'https://www.flipkart.com/yorker-solid-men-multicolor-track-pants/p/itmd2c76aadce459?pid=TKPFCZ9EA7H5FYZH&lid=LSTTKPFCZ9EA7H5FYZHVYXWP0&marketplace=FLIPKART&srno=b_1_1&otracker=browse&fm=organic&iid=177a46eb-d053-4732-b3de-fcad6ff59cbd.TKPFCZ9EA7H5FYZH.SEARCH&ssid=utkd4t3gb40000001612415717799',\n",
              " 'processed_text': ['solid',\n",
              "  'women',\n",
              "  'multicolor',\n",
              "  'track',\n",
              "  'pant',\n",
              "  'yorker',\n",
              "  'trackpant',\n",
              "  'rich',\n",
              "  'comb',\n",
              "  'cotton',\n",
              "  'give',\n",
              "  'rich',\n",
              "  'look',\n",
              "  'design',\n",
              "  'comfort',\n",
              "  'skin',\n",
              "  'friendli',\n",
              "  'fabric',\n",
              "  'itch',\n",
              "  'free',\n",
              "  'waistband',\n",
              "  'great',\n",
              "  'year',\n",
              "  'round',\n",
              "  'use',\n",
              "  'proudli',\n",
              "  'india'],\n",
              " 'brand_facet': 'york',\n",
              " 'category_facet': 'clothing_and_accessories',\n",
              " 'subcategory_facet': 'bottomwear',\n",
              " 'seller_facet': 'shyam_enterprises',\n",
              " 'attributes': ['combo',\n",
              "  'elast',\n",
              "  'side',\n",
              "  'pocket',\n",
              "  'cotton',\n",
              "  'blend',\n",
              "  'solid',\n",
              "  'multicolor'],\n",
              " 'out_of_stock': False,\n",
              " 'selling_price': 921.0,\n",
              " 'actual_price': 2999.0,\n",
              " 'discount': 69,\n",
              " 'average_rating': 3.9}"
            ]
          },
          "metadata": {}
        }
      ]
    }
  ]
}