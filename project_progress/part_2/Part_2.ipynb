{
 "cells": [
  {
   "cell_type": "markdown",
   "id": "99d8940e",
   "metadata": {},
   "source": [
    "# 0. Data Preparation"
   ]
  },
  {
   "cell_type": "code",
   "execution_count": 3,
   "id": "139a8e36",
   "metadata": {},
   "outputs": [],
   "source": [
    "import pandas as pd\n",
    "import numpy as np\n",
    "import json\n",
    "from collections import defaultdict\n",
    "\n",
    "# Load your preprocessed data from Part 1\n",
    "\n",
    "df = pd.read_csv(\n",
    "    '/Users/julialopezpinot/Desktop/irwa_search_engine_G_011/data/processed_dataset.csv',\n",
    "    engine='python',\n",
    "    on_bad_lines='skip'\n",
    ")\n"
   ]
  },
  {
   "cell_type": "code",
   "execution_count": 11,
   "id": "203e12fb",
   "metadata": {},
   "outputs": [],
   "source": [
    "import ast\n",
    "\n",
    "def safe_literal_eval(x):\n",
    "    if isinstance(x, str):\n",
    "        try:\n",
    "            return ast.literal_eval(x)\n",
    "        except (ValueError, SyntaxError):\n",
    "            return []\n",
    "    elif isinstance(x, list):\n",
    "        return x\n",
    "    else:\n",
    "        return []\n",
    "    \n",
    "\n",
    "# we need to convert the string representation of lists/dicts back to actual lists/dicts\n",
    "df['processed_text'] = df['processed_text'].apply(safe_literal_eval)\n",
    "df['attributes'] = df['attributes'].apply(safe_literal_eval)"
   ]
  },
  {
   "cell_type": "code",
   "execution_count": 12,
   "id": "902a0bba",
   "metadata": {},
   "outputs": [
    {
     "data": {
      "text/html": [
       "<div>\n",
       "<style scoped>\n",
       "    .dataframe tbody tr th:only-of-type {\n",
       "        vertical-align: middle;\n",
       "    }\n",
       "\n",
       "    .dataframe tbody tr th {\n",
       "        vertical-align: top;\n",
       "    }\n",
       "\n",
       "    .dataframe thead th {\n",
       "        text-align: right;\n",
       "    }\n",
       "</style>\n",
       "<table border=\"1\" class=\"dataframe\">\n",
       "  <thead>\n",
       "    <tr style=\"text-align: right;\">\n",
       "      <th></th>\n",
       "      <th>pid</th>\n",
       "      <th>url</th>\n",
       "      <th>processed_text</th>\n",
       "      <th>title</th>\n",
       "      <th>description</th>\n",
       "      <th>brand_facet</th>\n",
       "      <th>category_facet</th>\n",
       "      <th>subcategory_facet</th>\n",
       "      <th>seller_facet</th>\n",
       "      <th>discount</th>\n",
       "      <th>selling_price</th>\n",
       "      <th>actual_price</th>\n",
       "      <th>average_rating</th>\n",
       "      <th>attributes</th>\n",
       "    </tr>\n",
       "  </thead>\n",
       "  <tbody>\n",
       "    <tr>\n",
       "      <th>0</th>\n",
       "      <td>TKPFCZ9EA7H5FYZH</td>\n",
       "      <td>https://www.flipkart.com/yorker-solid-men-mult...</td>\n",
       "      <td>[solid, women, multicolor, track, pant, yorker...</td>\n",
       "      <td>Solid Women Multicolor Track Pants</td>\n",
       "      <td>Yorker trackpants made from 100% rich combed c...</td>\n",
       "      <td>york</td>\n",
       "      <td>clothing_and_accessories</td>\n",
       "      <td>bottomwear</td>\n",
       "      <td>shyam_enterprises</td>\n",
       "      <td>69.0</td>\n",
       "      <td>921.0</td>\n",
       "      <td>2999.0</td>\n",
       "      <td>3.9</td>\n",
       "      <td>[elast, side, pocket, cotton, blend, solid, mu...</td>\n",
       "    </tr>\n",
       "    <tr>\n",
       "      <th>1</th>\n",
       "      <td>TKPFCZ9EJZV2UVRZ</td>\n",
       "      <td>https://www.flipkart.com/yorker-solid-men-blue...</td>\n",
       "      <td>[solid, men, blue, track, pant, yorker, trackp...</td>\n",
       "      <td>Solid Men Blue Track Pants</td>\n",
       "      <td>Yorker trackpants made from 100% rich combed c...</td>\n",
       "      <td>york</td>\n",
       "      <td>clothing_and_accessories</td>\n",
       "      <td>bottomwear</td>\n",
       "      <td>shyam_enterprises</td>\n",
       "      <td>66.0</td>\n",
       "      <td>499.0</td>\n",
       "      <td>1499.0</td>\n",
       "      <td>3.9</td>\n",
       "      <td>[drawstr, elast, side, pocket, cotton, blend, ...</td>\n",
       "    </tr>\n",
       "    <tr>\n",
       "      <th>2</th>\n",
       "      <td>TKPFCZ9EHFCY5Z4Y</td>\n",
       "      <td>https://www.flipkart.com/yorker-solid-men-mult...</td>\n",
       "      <td>[solid, men, multicolor, track, pant, yorker, ...</td>\n",
       "      <td>Solid Men Multicolor Track Pants</td>\n",
       "      <td>Yorker trackpants made from 100% rich combed c...</td>\n",
       "      <td>york</td>\n",
       "      <td>clothing_and_accessories</td>\n",
       "      <td>bottomwear</td>\n",
       "      <td>shyam_enterprises</td>\n",
       "      <td>68.0</td>\n",
       "      <td>931.0</td>\n",
       "      <td>2999.0</td>\n",
       "      <td>3.9</td>\n",
       "      <td>[elast, side, pocket, cotton, blend, solid, mu...</td>\n",
       "    </tr>\n",
       "    <tr>\n",
       "      <th>3</th>\n",
       "      <td>TKPFCZ9ESZZ7YWEF</td>\n",
       "      <td>https://www.flipkart.com/yorker-solid-men-mult...</td>\n",
       "      <td>[solid, women, multicolor, track, pant, yorker...</td>\n",
       "      <td>Solid Women Multicolor Track Pants</td>\n",
       "      <td>Yorker trackpants made from 100% rich combed c...</td>\n",
       "      <td>york</td>\n",
       "      <td>clothing_and_accessories</td>\n",
       "      <td>bottomwear</td>\n",
       "      <td>shyam_enterprises</td>\n",
       "      <td>69.0</td>\n",
       "      <td>911.0</td>\n",
       "      <td>2999.0</td>\n",
       "      <td>3.9</td>\n",
       "      <td>[elast, side, pocket, cotton, blend, solid, mu...</td>\n",
       "    </tr>\n",
       "    <tr>\n",
       "      <th>4</th>\n",
       "      <td>TKPFCZ9EVXKBSUD7</td>\n",
       "      <td>https://www.flipkart.com/yorker-solid-men-brow...</td>\n",
       "      <td>[solid, women, brown, gray, track, pant, yorke...</td>\n",
       "      <td>Solid Women Brown, Grey Track Pants</td>\n",
       "      <td>Yorker trackpants made from 100% rich combed c...</td>\n",
       "      <td>york</td>\n",
       "      <td>clothing_and_accessories</td>\n",
       "      <td>bottomwear</td>\n",
       "      <td>shyam_enterprises</td>\n",
       "      <td>68.0</td>\n",
       "      <td>943.0</td>\n",
       "      <td>2999.0</td>\n",
       "      <td>3.9</td>\n",
       "      <td>[drawstr, elast, side, pocket, cotton, blend, ...</td>\n",
       "    </tr>\n",
       "  </tbody>\n",
       "</table>\n",
       "</div>"
      ],
      "text/plain": [
       "                pid                                                url  \\\n",
       "0  TKPFCZ9EA7H5FYZH  https://www.flipkart.com/yorker-solid-men-mult...   \n",
       "1  TKPFCZ9EJZV2UVRZ  https://www.flipkart.com/yorker-solid-men-blue...   \n",
       "2  TKPFCZ9EHFCY5Z4Y  https://www.flipkart.com/yorker-solid-men-mult...   \n",
       "3  TKPFCZ9ESZZ7YWEF  https://www.flipkart.com/yorker-solid-men-mult...   \n",
       "4  TKPFCZ9EVXKBSUD7  https://www.flipkart.com/yorker-solid-men-brow...   \n",
       "\n",
       "                                      processed_text  \\\n",
       "0  [solid, women, multicolor, track, pant, yorker...   \n",
       "1  [solid, men, blue, track, pant, yorker, trackp...   \n",
       "2  [solid, men, multicolor, track, pant, yorker, ...   \n",
       "3  [solid, women, multicolor, track, pant, yorker...   \n",
       "4  [solid, women, brown, gray, track, pant, yorke...   \n",
       "\n",
       "                                 title  \\\n",
       "0   Solid Women Multicolor Track Pants   \n",
       "1           Solid Men Blue Track Pants   \n",
       "2     Solid Men Multicolor Track Pants   \n",
       "3   Solid Women Multicolor Track Pants   \n",
       "4  Solid Women Brown, Grey Track Pants   \n",
       "\n",
       "                                         description brand_facet  \\\n",
       "0  Yorker trackpants made from 100% rich combed c...        york   \n",
       "1  Yorker trackpants made from 100% rich combed c...        york   \n",
       "2  Yorker trackpants made from 100% rich combed c...        york   \n",
       "3  Yorker trackpants made from 100% rich combed c...        york   \n",
       "4  Yorker trackpants made from 100% rich combed c...        york   \n",
       "\n",
       "             category_facet subcategory_facet       seller_facet discount  \\\n",
       "0  clothing_and_accessories        bottomwear  shyam_enterprises     69.0   \n",
       "1  clothing_and_accessories        bottomwear  shyam_enterprises     66.0   \n",
       "2  clothing_and_accessories        bottomwear  shyam_enterprises     68.0   \n",
       "3  clothing_and_accessories        bottomwear  shyam_enterprises     69.0   \n",
       "4  clothing_and_accessories        bottomwear  shyam_enterprises     68.0   \n",
       "\n",
       "   selling_price  actual_price  average_rating  \\\n",
       "0          921.0        2999.0             3.9   \n",
       "1          499.0        1499.0             3.9   \n",
       "2          931.0        2999.0             3.9   \n",
       "3          911.0        2999.0             3.9   \n",
       "4          943.0        2999.0             3.9   \n",
       "\n",
       "                                          attributes  \n",
       "0  [elast, side, pocket, cotton, blend, solid, mu...  \n",
       "1  [drawstr, elast, side, pocket, cotton, blend, ...  \n",
       "2  [elast, side, pocket, cotton, blend, solid, mu...  \n",
       "3  [elast, side, pocket, cotton, blend, solid, mu...  \n",
       "4  [drawstr, elast, side, pocket, cotton, blend, ...  "
      ]
     },
     "execution_count": 12,
     "metadata": {},
     "output_type": "execute_result"
    }
   ],
   "source": [
    "df.head()"
   ]
  },
  {
   "cell_type": "code",
   "execution_count": 7,
   "id": "c04cb7d2",
   "metadata": {},
   "outputs": [
    {
     "name": "stdout",
     "output_type": "stream",
     "text": [
      "<class 'pandas.core.frame.DataFrame'>\n",
      "RangeIndex: 28081 entries, 0 to 28080\n",
      "Data columns (total 14 columns):\n",
      " #   Column             Non-Null Count  Dtype  \n",
      "---  ------             --------------  -----  \n",
      " 0   pid                28081 non-null  object \n",
      " 1   url                28081 non-null  object \n",
      " 2   processed_text     28081 non-null  object \n",
      " 3   title              28081 non-null  object \n",
      " 4   description        16927 non-null  object \n",
      " 5   brand_facet        26071 non-null  object \n",
      " 6   category_facet     28080 non-null  object \n",
      " 7   subcategory_facet  28080 non-null  object \n",
      " 8   seller_facet       26437 non-null  object \n",
      " 9   discount           27225 non-null  object \n",
      " 10  selling_price      28077 non-null  float64\n",
      " 11  actual_price       27302 non-null  float64\n",
      " 12  average_rating     25818 non-null  float64\n",
      " 13  attributes         28079 non-null  object \n",
      "dtypes: float64(3), object(11)\n",
      "memory usage: 3.0+ MB\n"
     ]
    }
   ],
   "source": [
    "df.info()"
   ]
  },
  {
   "cell_type": "markdown",
   "id": "a3a6b48f",
   "metadata": {},
   "source": [
    "First, we should analyze the missing values of the variables and define how to handle them\n",
    "- textual/categorical --> we fill with unkown since it keeps it searchable and consisten\n",
    "- numerical fields --> we fill them with 0 (we should interpret as 0 discount or no average rating available) "
   ]
  },
  {
   "cell_type": "code",
   "execution_count": 13,
   "id": "6c049ef9",
   "metadata": {},
   "outputs": [
    {
     "name": "stdout",
     "output_type": "stream",
     "text": [
      "Missing values after cleaning:\n",
      "pid                  0\n",
      "url                  0\n",
      "processed_text       0\n",
      "title                0\n",
      "description          0\n",
      "brand_facet          0\n",
      "category_facet       0\n",
      "subcategory_facet    0\n",
      "seller_facet         0\n",
      "discount             0\n",
      "selling_price        0\n",
      "actual_price         0\n",
      "average_rating       0\n",
      "attributes           0\n",
      "dtype: int64\n"
     ]
    }
   ],
   "source": [
    "# Fill missing textual/categorical values\n",
    "text_cols = ['title', 'description', 'brand_facet', \n",
    "             'category_facet', 'subcategory_facet', 'seller_facet']\n",
    "df[text_cols] = df[text_cols].fillna('unknown')\n",
    "\n",
    "# Fill missing numerical fields with 0\n",
    "num_cols = ['discount', 'selling_price', 'actual_price', 'average_rating']\n",
    "df[num_cols] = df[num_cols].fillna(0)\n",
    "\n",
    "# Ensure 'attributes' column has lists, even when missing\n",
    "df['attributes'] = df['attributes'].apply(lambda x: x if isinstance(x, list) else [])\n",
    "\n",
    "# Verify\n",
    "print(\"Missing values after cleaning:\")\n",
    "print(df.isna().sum())\n"
   ]
  },
  {
   "cell_type": "markdown",
   "id": "b387ab2d",
   "metadata": {},
   "source": [
    "# 1. Inverted Index"
   ]
  },
  {
   "cell_type": "code",
   "execution_count": 14,
   "id": "67f5bdaa",
   "metadata": {},
   "outputs": [],
   "source": [
    "# we need all the tokens in a single column for the inverted index, hence we concatenate the processed_text and attributes columns\n",
    "df['tokens'] = df['processed_text'] + df['attributes']"
   ]
  },
  {
   "cell_type": "markdown",
   "id": "e66b58dc",
   "metadata": {},
   "source": [
    "Now we are building the inverted index: \n",
    "- Inverted index maps each word (token) to the documents (products) that contain it. "
   ]
  },
  {
   "cell_type": "code",
   "execution_count": 15,
   "id": "c50ad115",
   "metadata": {},
   "outputs": [
    {
     "name": "stdout",
     "output_type": "stream",
     "text": [
      "Inverted index built with 5692 unique terms.\n"
     ]
    }
   ],
   "source": [
    "def build_inverted_index(df):\n",
    "    \"\"\"\n",
    "    Build an inverted index mapping each token to a set of document IDs (pids)\n",
    "    that contain that token.\n",
    "    \"\"\"\n",
    "    inverted_index = defaultdict(set)\n",
    "    \n",
    "    for i, row in df.iterrows():\n",
    "        for token in row['tokens']:\n",
    "            inverted_index[token].add(row['pid'])\n",
    "    \n",
    "    # Convert sets to sorted lists for readability\n",
    "    inverted_index = {term: sorted(list(docs)) for term, docs in inverted_index.items()}\n",
    "    return inverted_index\n",
    "\n",
    "inverted_index = build_inverted_index(df)\n",
    "print(f\"Inverted index built with {len(inverted_index)} unique terms.\")\n"
   ]
  },
  {
   "cell_type": "code",
   "execution_count": 16,
   "id": "19907f7d",
   "metadata": {},
   "outputs": [
    {
     "name": "stdout",
     "output_type": "stream",
     "text": [
      "solid: ['4hWtdShnw%3D%3D', 'BDAFYGRSSHGHBBYE', 'BRFEWB5RPBDW9DKP', 'BRFEX35MBHYTBYGC', 'BRFEZEF49JAWFCMD']\n",
      "women: ['ARME8P6GZGFHAUPX', 'BDAFSFMYKJDGSXUG', 'BDAFT7NGPTHYGVRJ', 'BDAFT8JHVBQ6ZT3F', 'BDAFT8JQFNVHGBVH']\n",
      "multicolor: ['ARME8P6GFSXGE9AW', 'ARME8P6GJQ8PZBE6', 'ARME8P6GXFED7RJZ', 'ARME8P6GZGFHAUPX', 'BDAFSFMYKJDGSXUG']\n",
      "track: ['BXRFGGX685HKER8Y', 'BXRFGYQTPZNHEWFD', 'BXRFGYQUTHXJKHHP', 'BXRFGYQUZH5DCABH', 'BXRFGYRYGUURZGDG']\n",
      "pant: ['BXRFGGX685HKER8Y', 'BXRFGYQTPZNHEWFD', 'BXRFGYQUTHXJKHHP', 'BXRFGYQUZH5DCABH', 'BXRFGYRYGUURZGDG']\n",
      "yorker: ['TKPFCZ9DYU33FFXS', 'TKPFCZ9E2UC3DR3F', 'TKPFCZ9EA7H5FYZH', 'TKPFCZ9ECDYYDNKA', 'TKPFCZ9EFK9DNWDA']\n",
      "trackpant: ['CRGFGQRNCB7QVEME', 'CRGFGQS63JKJZM34', 'TKPEFVQAPRHKVJHJ', 'TKPEFVQB8Z65YCYQ', 'TKPEFVQBA9FJA8WX']\n",
      "rich: ['CRGFB6UNUPXTTY7F', 'CRGFDCWNCYTB8SAM', 'CTPFVZD8CNSZ3AMR', 'CTPFVZEYHCRQ27Y2', 'CTPFVZFYR8KGYYBJ']\n",
      "comb: ['BRFEWB5RPBDW9DKP', 'BRFEX35MBHYTBYGC', 'BRFEZEF49JAWFCMD', 'BRFEZWU9FCHYPJDU', 'BRFFYNFYDDNAUDZZ']\n",
      "cotton: ['4hWtdShnw%3D%3D', 'BDAFSFMYKJDGSXUG', 'BDAFUBD2EJHFCRNC', 'BRFEGM47AKYADGCU', 'BRFEP9YFZF3ZEBSY']\n"
     ]
    }
   ],
   "source": [
    "for i, (term, postings) in enumerate(inverted_index.items()):\n",
    "    print(f\"{term}: {postings[:5]}\")  # show first 5 product IDs for each term\n",
    "    if i == 9:  # stop after 10 terms\n",
    "        break"
   ]
  },
  {
   "cell_type": "markdown",
   "id": "afd7a8d1",
   "metadata": {},
   "source": [
    "Our index contains 5692 unique terms, that means that our dataset contained 5692 distinct words. "
   ]
  },
  {
   "cell_type": "code",
   "execution_count": 17,
   "id": "0c0a5a29",
   "metadata": {},
   "outputs": [],
   "source": [
    "# we save the inverted index to a json file in order to use it later \n",
    "with open('inverted_index.json', 'w') as f:\n",
    "    json.dump(inverted_index, f)"
   ]
  }
 ],
 "metadata": {
  "kernelspec": {
   "display_name": "irwa_venv",
   "language": "python",
   "name": "python3"
  },
  "language_info": {
   "codemirror_mode": {
    "name": "ipython",
    "version": 3
   },
   "file_extension": ".py",
   "mimetype": "text/x-python",
   "name": "python",
   "nbconvert_exporter": "python",
   "pygments_lexer": "ipython3",
   "version": "3.11.5"
  }
 },
 "nbformat": 4,
 "nbformat_minor": 5
}
